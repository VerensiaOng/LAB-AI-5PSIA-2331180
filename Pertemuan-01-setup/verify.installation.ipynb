{
 "cells": [
  {
   "cell_type": "code",
   "execution_count": 1,
   "id": "c180b870-f089-4c0d-8b50-0e71293695da",
   "metadata": {},
   "outputs": [
    {
     "name": "stdout",
     "output_type": "stream",
     "text": [
      "python executable: D:\\anaconda3\\envs\\ai_env\\python.exe\n",
      "python version: 3.10.18 | packaged by Anaconda, Inc. | (main, Jun  5 2025, 13:08:55) [MSC v.1929 64 bit (AMD64)]\n",
      "numpy version: 2.1.3\n"
     ]
    }
   ],
   "source": [
    "import sys, numpy as np\n",
    "print(\"python executable:\", sys.executable)\n",
    "print(\"python version:\", sys.version.splitlines()[0])\n",
    "print(\"numpy version:\", np.__version__)\n"
   ]
  },
  {
   "cell_type": "code",
   "execution_count": null,
   "id": "b91d37af-ee1c-4a28-bb76-a13619be5d0b",
   "metadata": {},
   "outputs": [],
   "source": []
  }
 ],
 "metadata": {
  "kernelspec": {
   "display_name": "Python (ai_env)",
   "language": "python",
   "name": "ai_env"
  },
  "language_info": {
   "codemirror_mode": {
    "name": "ipython",
    "version": 3
   },
   "file_extension": ".py",
   "mimetype": "text/x-python",
   "name": "python",
   "nbconvert_exporter": "python",
   "pygments_lexer": "ipython3",
   "version": "3.10.18"
  }
 },
 "nbformat": 4,
 "nbformat_minor": 5
}
